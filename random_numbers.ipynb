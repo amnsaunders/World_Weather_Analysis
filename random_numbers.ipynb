{
 "cells": [
  {
   "cell_type": "code",
   "execution_count": 1,
   "id": "db6cb159",
   "metadata": {},
   "outputs": [],
   "source": [
    "#Import the random module.\n",
    "\n",
    "import random"
   ]
  },
  {
   "cell_type": "code",
   "execution_count": 2,
   "id": "b732561a",
   "metadata": {},
   "outputs": [
    {
     "data": {
      "text/plain": [
       "-26"
      ]
     },
     "execution_count": 2,
     "metadata": {},
     "output_type": "execute_result"
    }
   ],
   "source": [
    "#Generating a random number.\n",
    "random.randint(-90, 90)"
   ]
  },
  {
   "cell_type": "code",
   "execution_count": 4,
   "id": "f1bb588d",
   "metadata": {},
   "outputs": [
    {
     "data": {
      "text/plain": [
       "0.6058109300135206"
      ]
     },
     "execution_count": 4,
     "metadata": {},
     "output_type": "execute_result"
    }
   ],
   "source": [
    "#Using the random() Function\n",
    "random.random()"
   ]
  },
  {
   "cell_type": "code",
   "execution_count": 5,
   "id": "8dc664a1",
   "metadata": {},
   "outputs": [
    {
     "data": {
      "text/plain": [
       "45.203030423466956"
      ]
     },
     "execution_count": 5,
     "metadata": {},
     "output_type": "execute_result"
    }
   ],
   "source": [
    "#Creating a random floating-point decimal between -90 and 90 by combining the random() Function and the random.randint\n",
    "random_number = random.randint(-90, 89) + random.random()\n",
    "random_number"
   ]
  },
  {
   "cell_type": "code",
   "execution_count": 8,
   "id": "9bd2c217",
   "metadata": {},
   "outputs": [],
   "source": [
    "#Assign the variable x to 1.\n",
    "x=1\n",
    "\n",
    "#Initialize an empty list, latitudes.\n",
    "latitudes = []\n",
    "\n",
    "#create a while loop where we generate a random latitude and add it to the list.\n",
    "#After the random latitude is added to the list we add one to the variable \"x\".\n",
    "#The while loop condition is checked again and will continue to run as long as x is less than 11\n",
    "\n",
    "while x < 11:\n",
    "    \n",
    "    random_lat = random.randint(-90, 89) + random.random()\n",
    "    \n",
    "    latitudes.append(random_lat)\n",
    "    \n",
    "    x += 1"
   ]
  },
  {
   "cell_type": "code",
   "execution_count": 9,
   "id": "8a1943fe",
   "metadata": {},
   "outputs": [
    {
     "data": {
      "text/plain": [
       "[-21.570064300175158,\n",
       " 75.35298520432553,\n",
       " -35.24916405580951,\n",
       " 7.95289905146747,\n",
       " -61.54356422808945,\n",
       " 75.24718464961906,\n",
       " -80.93945766634646,\n",
       " 60.78008881441438,\n",
       " -44.33160160694699,\n",
       " -1.231654906951368]"
      ]
     },
     "execution_count": 9,
     "metadata": {},
     "output_type": "execute_result"
    }
   ],
   "source": [
    "#run the code.\n",
    "latitudes"
   ]
  },
  {
   "cell_type": "code",
   "execution_count": 10,
   "id": "55b61abb",
   "metadata": {},
   "outputs": [
    {
     "data": {
      "text/plain": [
       "68"
      ]
     },
     "execution_count": 10,
     "metadata": {},
     "output_type": "execute_result"
    }
   ],
   "source": [
    "#Using the randrange() Function with a step parameter.\n",
    "random.randrange(-90, 90, step=1)"
   ]
  },
  {
   "cell_type": "code",
   "execution_count": 13,
   "id": "bb20e0b4",
   "metadata": {},
   "outputs": [
    {
     "data": {
      "text/plain": [
       "-72"
      ]
     },
     "execution_count": 13,
     "metadata": {},
     "output_type": "execute_result"
    }
   ],
   "source": [
    "# changing the step parameter to step 3.\n",
    "random.randrange(-90,90, step=3)\n",
    "\n",
    "#Note: If you don't add the step parameter,the output will be a number with an increment of 1, which is the default integer value."
   ]
  },
  {
   "cell_type": "code",
   "execution_count": 15,
   "id": "19a4ce71",
   "metadata": {},
   "outputs": [
    {
     "data": {
      "text/plain": [
       "19.522898155602064"
      ]
     },
     "execution_count": 15,
     "metadata": {},
     "output_type": "execute_result"
    }
   ],
   "source": [
    "#Create the uniform() Function to generate a floating-point decimal number between two given numbers inside the parentheses.\n",
    "random.uniform(-90, 90)"
   ]
  },
  {
   "cell_type": "code",
   "execution_count": 16,
   "id": "daaf2508",
   "metadata": {},
   "outputs": [],
   "source": [
    "# Import the NumPy module\n",
    "\n",
    "import numpy as np\n",
    "\n",
    "#The NumPy module has a built-in random module, and supplements the built-in Python random module. There is no need to import the random module if we import the NumPy module, as it's redundant."
   ]
  },
  {
   "cell_type": "code",
   "execution_count": 17,
   "id": "46db2be8",
   "metadata": {},
   "outputs": [
    {
     "data": {
      "text/plain": [
       "-75.71601344550128"
      ]
     },
     "execution_count": 17,
     "metadata": {},
     "output_type": "execute_result"
    }
   ],
   "source": [
    "#generate a floating-point decimal number between -90.000 and 90.000.\n",
    "np.random.uniform(-90.000, 90.000)"
   ]
  },
  {
   "cell_type": "code",
   "execution_count": 18,
   "id": "d86507c3",
   "metadata": {},
   "outputs": [
    {
     "data": {
      "text/plain": [
       "27.528902735837704"
      ]
     },
     "execution_count": 18,
     "metadata": {},
     "output_type": "execute_result"
    }
   ],
   "source": [
    "# Another option is to write the parameters like the example below.\n",
    "\n",
    "np.random.uniform(low = -90, high=90)"
   ]
  },
  {
   "cell_type": "code",
   "execution_count": 19,
   "id": "e546f56a",
   "metadata": {},
   "outputs": [
    {
     "data": {
      "text/plain": [
       "array([-48.57580571,  33.77776744,  70.09110659, -22.11976801,\n",
       "       -63.76600157,  39.16824035, -52.02656829, -70.28170822,\n",
       "        31.73638674,  53.64778367, -37.98540083, -46.82761365,\n",
       "       -88.71862033,  51.45924878,  88.42960078,  -9.62802021,\n",
       "       -77.15914698, -35.29265378, -68.42936487,  -9.82691913,\n",
       "       -22.46127861,   7.92055507, -55.69254847, -70.6102037 ,\n",
       "        34.78118519, -19.1690088 , -10.19013832, -23.3617402 ,\n",
       "       -50.74562304, -47.60116256, -56.26006854,  83.4263034 ,\n",
       "       -67.90007881,  34.63330207, -15.32643664,  75.27409   ,\n",
       "        27.95546869, -41.65069533, -64.76305121,   3.9124211 ,\n",
       "        31.34774206, -63.0411    , -74.19578346, -74.59112278,\n",
       "        33.66292226, -36.57794454,  78.60660628,  16.05763182,\n",
       "        19.56190141,   2.70501517])"
      ]
     },
     "execution_count": 19,
     "metadata": {},
     "output_type": "execute_result"
    }
   ],
   "source": [
    "#Generate more than one floating-point decimal number between -90 and 90 by adding the size parameter\n",
    "\n",
    "np.random.uniform(-90.000, 90.000, size=50)\n",
    "\n",
    "# The output should be an array of 50 floating-point decimal numbers between -90.000 and 90.000."
   ]
  },
  {
   "cell_type": "code",
   "execution_count": 20,
   "id": "f6a1a7c9",
   "metadata": {},
   "outputs": [],
   "source": [
    "#Test how long a piece of code or function takes to run by using the \"timeit\" module and the %timeit magic command.\n",
    "# Import timeit\n",
    "\n",
    "import timeit"
   ]
  },
  {
   "cell_type": "code",
   "execution_count": 21,
   "id": "b344d190",
   "metadata": {},
   "outputs": [
    {
     "name": "stdout",
     "output_type": "stream",
     "text": [
      "12.1 µs ± 131 ns per loop (mean ± std. dev. of 7 runs, 100,000 loops each)\n"
     ]
    }
   ],
   "source": [
    "#add the %timeit magic command\n",
    "\n",
    "%timeit np.random.uniform(-90.000, 90.000, size=1500)"
   ]
  },
  {
   "cell_type": "code",
   "execution_count": 22,
   "id": "8b21e418",
   "metadata": {},
   "outputs": [
    {
     "name": "stdout",
     "output_type": "stream",
     "text": [
      "1.32 ms ± 11.9 µs per loop (mean ± std. dev. of 7 runs, 1,000 loops each)\n"
     ]
    }
   ],
   "source": [
    "#run the while loop\n",
    "\n",
    "def latitudes(size):\n",
    "    latitudes = []\n",
    "    x = 0\n",
    "    while x < (size):\n",
    "        random_lat = random.randint(-90, 90) + random.random()\n",
    "        latitudes.append(random_lat)\n",
    "        x += 1\n",
    "    return latitudes\n",
    "# Call the function with 1500.\n",
    "%timeit latitudes(1500)"
   ]
  },
  {
   "cell_type": "code",
   "execution_count": null,
   "id": "516edd8f",
   "metadata": {},
   "outputs": [],
   "source": []
  }
 ],
 "metadata": {
  "kernelspec": {
   "display_name": "Python 3 (ipykernel)",
   "language": "python",
   "name": "python3"
  },
  "language_info": {
   "codemirror_mode": {
    "name": "ipython",
    "version": 3
   },
   "file_extension": ".py",
   "mimetype": "text/x-python",
   "name": "python",
   "nbconvert_exporter": "python",
   "pygments_lexer": "ipython3",
   "version": "3.9.7"
  }
 },
 "nbformat": 4,
 "nbformat_minor": 5
}
